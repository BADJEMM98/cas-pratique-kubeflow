{
 "cells": [
  {
   "cell_type": "code",
   "execution_count": 1,
   "id": "2d61c85d-096b-4d25-9e66-56201cb10b94",
   "metadata": {
    "tags": []
   },
   "outputs": [],
   "source": [
    "import os\n",
    "import kfp\n",
    "from kfp.components import load_component_from_file\n",
    "from kfp.compiler.compiler import Compiler \n",
    "import kfp.dsl as dsl\n",
    "from dotenv import load_dotenv"
   ]
  },
  {
   "cell_type": "code",
   "execution_count": 2,
   "id": "3d830765-2f91-4b0a-9e50-6d3a27a74bf4",
   "metadata": {},
   "outputs": [
    {
     "data": {
      "text/plain": [
       "True"
      ]
     },
     "execution_count": 2,
     "metadata": {},
     "output_type": "execute_result"
    }
   ],
   "source": [
    "load_dotenv(\"../.env\")"
   ]
  },
  {
   "cell_type": "code",
   "execution_count": 3,
   "id": "f7eef42f-f034-41e4-9610-995a304371f4",
   "metadata": {},
   "outputs": [],
   "source": [
    "#Load Components\n",
    "\n",
    "load_data_op = load_component_from_file(\"components_yaml/load_data_component.yaml\")\n",
    "preprocess_data_op = load_component_from_file(\"components_yaml/preprocess_data_component.yaml\")\n",
    "tunehp_xgboost_op = load_component_from_file(\"components_yaml/tune_xgboost_component.yaml\")\n",
    "train_xgboost_op = load_component_from_file(\"components_yaml/train_xgboost_component.yaml\")\n",
    "eval_xgboost_op = load_component_from_file(\"components_yaml/eval_xgboost_component.yaml\")\n",
    "deploy_xgboost_op = load_component_from_file(\"components_yaml/deploy_xgboost_component.yaml\")"
   ]
  },
  {
   "cell_type": "code",
   "execution_count": 4,
   "id": "52bee555-f5bc-4931-9173-1b043b409d92",
   "metadata": {},
   "outputs": [],
   "source": [
    "# parameters declaration\n",
    "\n",
    "arguments = {\n",
    "    \"access_key_id\":os.environ.get(\"AWS_ACCESS_KEY_ID\"),\n",
    "    \"access_key_secret\":os.environ.get(\"AWS_SECRET_ACCESS_KEY\"),\n",
    "    \"filename\":\"adult_train.csv\",\n",
    "    \"model_registry\":\"fyc-dev-env\",\n",
    "}"
   ]
  },
  {
   "cell_type": "code",
   "execution_count": 5,
   "id": "d3be7249-cc74-4e0c-acee-352786b93b6c",
   "metadata": {},
   "outputs": [
    {
     "data": {
      "text/html": [
       "<a href=\"/pipeline/#/experiments/details/a1b16540-328b-4812-b761-25437d54784c\" target=\"_blank\" >Experiment details</a>."
      ],
      "text/plain": [
       "<IPython.core.display.HTML object>"
      ]
     },
     "metadata": {},
     "output_type": "display_data"
    }
   ],
   "source": [
    "# create experiment\n",
    "client = kfp.Client()\n",
    "experiment = client.create_experiment(name=\"salary_prediction_pipeline_experiment\", \n",
    "                                      description=\"pipeline simple d'entraînement d'un model de machine learning\")\n"
   ]
  },
  {
   "cell_type": "code",
   "execution_count": 6,
   "id": "c4f1b930-7d82-4d5b-868a-fe83cb859535",
   "metadata": {},
   "outputs": [],
   "source": [
    "#create a pipeline\n",
    "\n",
    "@dsl.pipeline(\n",
    "    name=\"salary_prediction_pipeline\",\n",
    "    description=\"pipeline d'entrainement d'un modèle de prédiction de salaire\",\n",
    ")\n",
    "def salary_prediction_pipeline(\n",
    "    access_key_id:str,\n",
    "    access_key_secret:str,\n",
    "    filename:str,\n",
    "    model_registry:str,\n",
    "\n",
    "):\n",
    "    load_data_task = load_data_op(\n",
    "        access_key_id,\n",
    "        access_key_secret,\n",
    "        filename\n",
    "    )\n",
    "    preprocess_data_task = preprocess_data_op(\n",
    "        load_data_task.outputs['data']\n",
    "    )\n",
    "    tunehp_xgboost_task = tunehp_xgboost_op(\n",
    "        preprocess_data_task.outputs['train'],\n",
    "        preprocess_data_task.outputs['test']\n",
    "    )\n",
    "    train_xgboost_task = train_xgboost_op(\n",
    "        preprocess_data_task.outputs['train'],\n",
    "        tunehp_xgboost_task.outputs[\"n_estimators\"],\n",
    "        tunehp_xgboost_task.outputs[\"learning_rate\"],\n",
    "        tunehp_xgboost_task.outputs[\"max_depth\"],\n",
    "        tunehp_xgboost_task.outputs[\"booster\"],\n",
    "        model_registry,\n",
    "        access_key_id,\n",
    "        access_key_secret\n",
    "    )\n",
    "    eval_xgboost_task = eval_xgboost_op(\n",
    "        preprocess_data_task.outputs['test'],\n",
    "        train_xgboost_task.outputs[\"modelname\"],\n",
    "        model_registry,\n",
    "        access_key_id,\n",
    "        access_key_secret)\n",
    "    deploy_xgboost_task = deploy_xgboost_op(\n",
    "        train_xgboost_task.outputs[\"modelname\"],\n",
    "        access_key_id,\n",
    "        access_key_secret\n",
    "    )\n"
   ]
  },
  {
   "cell_type": "code",
   "execution_count": null,
   "id": "82d6e9ce-a48b-49d3-9195-4b54da4575f7",
   "metadata": {},
   "outputs": [
    {
     "data": {
      "text/html": [
       "<a href=\"/pipeline/#/experiments/details/a1b16540-328b-4812-b761-25437d54784c\" target=\"_blank\" >Experiment details</a>."
      ],
      "text/plain": [
       "<IPython.core.display.HTML object>"
      ]
     },
     "metadata": {},
     "output_type": "display_data"
    },
    {
     "data": {
      "text/html": [
       "<a href=\"/pipeline/#/runs/details/277c551d-426d-49b8-86b6-04232784439b\" target=\"_blank\" >Run details</a>."
      ],
      "text/plain": [
       "<IPython.core.display.HTML object>"
      ]
     },
     "metadata": {},
     "output_type": "display_data"
    },
    {
     "data": {
      "text/plain": [
       "RunPipelineResult(run_id=277c551d-426d-49b8-86b6-04232784439b)"
      ]
     },
     "execution_count": 7,
     "metadata": {},
     "output_type": "execute_result"
    }
   ],
   "source": [
    "#Create a run in the current experiment\n",
    "\n",
    "client.create_run_from_pipeline_func(salary_prediction_pipeline, arguments=arguments,experiment_name=experiment.name)"
   ]
  }
 ],
 "metadata": {
  "kernelspec": {
   "display_name": "Python 3 (ipykernel)",
   "language": "python",
   "name": "python3"
  },
  "language_info": {
   "codemirror_mode": {
    "name": "ipython",
    "version": 3
   },
   "file_extension": ".py",
   "mimetype": "text/x-python",
   "name": "python",
   "nbconvert_exporter": "python",
   "pygments_lexer": "ipython3",
   "version": "3.9.10"
  }
 },
 "nbformat": 4,
 "nbformat_minor": 5
}
